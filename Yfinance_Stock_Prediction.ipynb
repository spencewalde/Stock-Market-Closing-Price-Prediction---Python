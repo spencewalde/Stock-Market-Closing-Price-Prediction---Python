{
  "nbformat": 4,
  "nbformat_minor": 0,
  "metadata": {
    "colab": {
      "name": "MachineLearningFinalProject",
      "provenance": []
    },
    "kernelspec": {
      "name": "python3",
      "display_name": "Python 3"
    },
    "language_info": {
      "name": "python"
    }
  },
  "cells": [
    {
      "cell_type": "code",
      "metadata": {
        "id": "tM4bKS1SK1DX"
      },
      "source": [
        "# description : this program uses a RNN called LSTM\n",
        "# to predict closing stock price of a corportion using past 60 day stock price"
      ],
      "execution_count": null,
      "outputs": []
    },
    {
      "cell_type": "code",
      "metadata": {
        "id": "YaTyDHXzDtsV"
      },
      "source": [
        "#import the libraries\n",
        "import math\n",
        "import pandas_datareader as web\n",
        "import numpy as np\n",
        "import pandas as pd\n",
        "from sklearn.preprocessing import MinMaxScaler\n",
        "from keras.models import Sequential\n",
        "from keras.layers import Dense,LSTM\n",
        "import matplotlib.pyplot as plt\n",
        "from datetime import date\n",
        "from datetime import timedelta\n",
        "plt.style.use('fivethirtyeight')\n"
      ],
      "execution_count": null,
      "outputs": []
    },
    {
      "cell_type": "code",
      "metadata": {
        "colab": {
          "base_uri": "https://localhost:8080/",
          "height": 460
        },
        "id": "RewIV4-UELWE",
        "outputId": "80ba5acb-b924-4f54-907d-d4f0c5c4a388"
      },
      "source": [
        "# get the stock quote\n",
        "val = input(\"Enter your value: \")\n",
        "print(val)\n",
        "today = date.today()\n",
        "yesterday = today - timedelta(days = 1)\n",
        "tomorrow = today + timedelta(days = 1)\n",
        "df = web.DataReader(val , data_source='yahoo', start= '2014-01-01', end= yesterday)\n",
        "#show the data\n",
        "df"
      ],
      "execution_count": null,
      "outputs": [
        {
          "output_type": "stream",
          "text": [
            "Enter your value: COST\n",
            "COST\n"
          ],
          "name": "stdout"
        },
        {
          "output_type": "execute_result",
          "data": {
            "text/html": [
              "<div>\n",
              "<style scoped>\n",
              "    .dataframe tbody tr th:only-of-type {\n",
              "        vertical-align: middle;\n",
              "    }\n",
              "\n",
              "    .dataframe tbody tr th {\n",
              "        vertical-align: top;\n",
              "    }\n",
              "\n",
              "    .dataframe thead th {\n",
              "        text-align: right;\n",
              "    }\n",
              "</style>\n",
              "<table border=\"1\" class=\"dataframe\">\n",
              "  <thead>\n",
              "    <tr style=\"text-align: right;\">\n",
              "      <th></th>\n",
              "      <th>High</th>\n",
              "      <th>Low</th>\n",
              "      <th>Open</th>\n",
              "      <th>Close</th>\n",
              "      <th>Volume</th>\n",
              "      <th>Adj Close</th>\n",
              "    </tr>\n",
              "    <tr>\n",
              "      <th>Date</th>\n",
              "      <th></th>\n",
              "      <th></th>\n",
              "      <th></th>\n",
              "      <th></th>\n",
              "      <th></th>\n",
              "      <th></th>\n",
              "    </tr>\n",
              "  </thead>\n",
              "  <tbody>\n",
              "    <tr>\n",
              "      <th>2014-01-02</th>\n",
              "      <td>119.300003</td>\n",
              "      <td>117.739998</td>\n",
              "      <td>118.709999</td>\n",
              "      <td>117.809998</td>\n",
              "      <td>1618400.0</td>\n",
              "      <td>99.024254</td>\n",
              "    </tr>\n",
              "    <tr>\n",
              "      <th>2014-01-03</th>\n",
              "      <td>118.360001</td>\n",
              "      <td>117.129997</td>\n",
              "      <td>118.209999</td>\n",
              "      <td>117.290001</td>\n",
              "      <td>1293500.0</td>\n",
              "      <td>98.587143</td>\n",
              "    </tr>\n",
              "    <tr>\n",
              "      <th>2014-01-06</th>\n",
              "      <td>117.750000</td>\n",
              "      <td>115.889999</td>\n",
              "      <td>117.489998</td>\n",
              "      <td>116.400002</td>\n",
              "      <td>2120200.0</td>\n",
              "      <td>97.839096</td>\n",
              "    </tr>\n",
              "    <tr>\n",
              "      <th>2014-01-07</th>\n",
              "      <td>116.559998</td>\n",
              "      <td>115.379997</td>\n",
              "      <td>116.389999</td>\n",
              "      <td>115.860001</td>\n",
              "      <td>2292500.0</td>\n",
              "      <td>97.385201</td>\n",
              "    </tr>\n",
              "    <tr>\n",
              "      <th>2014-01-08</th>\n",
              "      <td>116.040001</td>\n",
              "      <td>113.919998</td>\n",
              "      <td>116.040001</td>\n",
              "      <td>114.050003</td>\n",
              "      <td>4600000.0</td>\n",
              "      <td>95.863838</td>\n",
              "    </tr>\n",
              "    <tr>\n",
              "      <th>...</th>\n",
              "      <td>...</td>\n",
              "      <td>...</td>\n",
              "      <td>...</td>\n",
              "      <td>...</td>\n",
              "      <td>...</td>\n",
              "      <td>...</td>\n",
              "    </tr>\n",
              "    <tr>\n",
              "      <th>2021-04-14</th>\n",
              "      <td>364.850006</td>\n",
              "      <td>362.549988</td>\n",
              "      <td>364.850006</td>\n",
              "      <td>363.170013</td>\n",
              "      <td>1509400.0</td>\n",
              "      <td>363.170013</td>\n",
              "    </tr>\n",
              "    <tr>\n",
              "      <th>2021-04-15</th>\n",
              "      <td>369.549988</td>\n",
              "      <td>364.269989</td>\n",
              "      <td>364.880005</td>\n",
              "      <td>368.799988</td>\n",
              "      <td>1850100.0</td>\n",
              "      <td>368.799988</td>\n",
              "    </tr>\n",
              "    <tr>\n",
              "      <th>2021-04-16</th>\n",
              "      <td>372.799988</td>\n",
              "      <td>368.579987</td>\n",
              "      <td>369.700012</td>\n",
              "      <td>370.720001</td>\n",
              "      <td>2248300.0</td>\n",
              "      <td>370.720001</td>\n",
              "    </tr>\n",
              "    <tr>\n",
              "      <th>2021-04-19</th>\n",
              "      <td>371.529999</td>\n",
              "      <td>368.200012</td>\n",
              "      <td>371.000000</td>\n",
              "      <td>369.549988</td>\n",
              "      <td>1560000.0</td>\n",
              "      <td>369.549988</td>\n",
              "    </tr>\n",
              "    <tr>\n",
              "      <th>2021-04-20</th>\n",
              "      <td>375.359985</td>\n",
              "      <td>368.730011</td>\n",
              "      <td>369.000000</td>\n",
              "      <td>371.730011</td>\n",
              "      <td>2329300.0</td>\n",
              "      <td>371.730011</td>\n",
              "    </tr>\n",
              "  </tbody>\n",
              "</table>\n",
              "<p>1837 rows × 6 columns</p>\n",
              "</div>"
            ],
            "text/plain": [
              "                  High         Low  ...     Volume   Adj Close\n",
              "Date                                ...                       \n",
              "2014-01-02  119.300003  117.739998  ...  1618400.0   99.024254\n",
              "2014-01-03  118.360001  117.129997  ...  1293500.0   98.587143\n",
              "2014-01-06  117.750000  115.889999  ...  2120200.0   97.839096\n",
              "2014-01-07  116.559998  115.379997  ...  2292500.0   97.385201\n",
              "2014-01-08  116.040001  113.919998  ...  4600000.0   95.863838\n",
              "...                ...         ...  ...        ...         ...\n",
              "2021-04-14  364.850006  362.549988  ...  1509400.0  363.170013\n",
              "2021-04-15  369.549988  364.269989  ...  1850100.0  368.799988\n",
              "2021-04-16  372.799988  368.579987  ...  2248300.0  370.720001\n",
              "2021-04-19  371.529999  368.200012  ...  1560000.0  369.549988\n",
              "2021-04-20  375.359985  368.730011  ...  2329300.0  371.730011\n",
              "\n",
              "[1837 rows x 6 columns]"
            ]
          },
          "metadata": {
            "tags": []
          },
          "execution_count": 36
        }
      ]
    },
    {
      "cell_type": "code",
      "metadata": {
        "colab": {
          "base_uri": "https://localhost:8080/"
        },
        "id": "VAqrWhJDELPx",
        "outputId": "cde7cafa-da0b-4e1c-abb0-a5e14cc18d9f"
      },
      "source": [
        "# get the bumber of rows and columns in the dataset\n",
        "df.shape\n"
      ],
      "execution_count": null,
      "outputs": [
        {
          "output_type": "execute_result",
          "data": {
            "text/plain": [
              "(1837, 6)"
            ]
          },
          "metadata": {
            "tags": []
          },
          "execution_count": 37
        }
      ]
    },
    {
      "cell_type": "code",
      "metadata": {
        "colab": {
          "base_uri": "https://localhost:8080/",
          "height": 558
        },
        "id": "RXuPxpcnELJ-",
        "outputId": "478a10b3-06f1-4a41-85d1-b7af8317596b"
      },
      "source": [
        "#visualize the closing price history\n",
        "plt.figure(figsize=(16,8))\n",
        "plt.title('Close Price History')\n",
        "plt.plot(df['Close'])\n",
        "plt.xlabel('Date', fontsize=18)\n",
        "plt.ylabel('Close Price USD ($)', fontsize=18)\n",
        "plt.show()"
      ],
      "execution_count": null,
      "outputs": [
        {
          "output_type": "display_data",
          "data": {
            "image/png": "[encoded data removed]",
            "text/plain": [
              "<Figure size 1152x576 with 1 Axes>"
            ]
          },
          "metadata": {
            "tags": []
          }
        }
      ]
    },
    {
      "cell_type": "code",
      "metadata": {
        "colab": {
          "base_uri": "https://localhost:8080/"
        },
        "id": "7i8HFMhnFXqp",
        "outputId": "21a96e7d-01ff-4fe2-c61f-801e2f6e9f9e"
      },
      "source": [
        "#Create a new dataframe with only the 'close'\n",
        "data = df.filter(['Close'])\n",
        "# convert the dataframe to a numpy array\n",
        "dataset = data.values\n",
        "#get or compute the number of rows to train the model\n",
        "training_data_len = math.ceil(len(dataset)* .8)\n",
        "\n",
        "\n",
        "training_data_len"
      ],
      "execution_count": null,
      "outputs": [
        {
          "output_type": "execute_result",
          "data": {
            "text/plain": [
              "1470"
            ]
          },
          "metadata": {
            "tags": []
          },
          "execution_count": 39
        }
      ]
    },
    {
      "cell_type": "code",
      "metadata": {
        "colab": {
          "base_uri": "https://localhost:8080/"
        },
        "id": "s4lkMOH-FXnk",
        "outputId": "19591b11-c49a-4627-d6c2-d4da98341343"
      },
      "source": [
        "## Scale the data makes values between zero and one\n",
        "scaler = MinMaxScaler(feature_range=(0,1))\n",
        "\n",
        "scaled_data = scaler.fit_transform(dataset)\n",
        "\n",
        "scaled_data"
      ],
      "execution_count": null,
      "outputs": [
        {
          "output_type": "execute_result",
          "data": {
            "text/plain": [
              "array([[0.02709612],\n",
              "       [0.02524948],\n",
              "       [0.02208886],\n",
              "       ...,\n",
              "       [0.92524597],\n",
              "       [0.92109094],\n",
              "       [0.92883278]])"
            ]
          },
          "metadata": {
            "tags": []
          },
          "execution_count": 40
        }
      ]
    },
    {
      "cell_type": "code",
      "metadata": {
        "id": "YiF1YwRJFXkM"
      },
      "source": [
        "#create the training dataset\n",
        "#create scaled training data\n",
        "train_data = scaled_data[0:training_data_len,:]\n",
        "#split the data into xtrain and ytrain data sets\n",
        "\n",
        "x_train = []\n",
        "y_train = []\n",
        "\n",
        "# appends the next 60 values to the xtrain array\n",
        "for i in range(120, len(train_data)):\n",
        "  x_train.append(train_data[i-120:i,0])\n",
        "  y_train.append(train_data[i, 0])\n",
        "  #if statement is to visual what is going on!!!\n",
        "  #y_train is the 61st data point that we are trying to predict\n",
        "  if i<=61:\n",
        "    print(x_train)\n",
        "    print(y_train)\n",
        "    print()\n",
        "\n",
        "\n"
      ],
      "execution_count": null,
      "outputs": []
    },
    {
      "cell_type": "code",
      "metadata": {
        "id": "EVCjcC8nFXhB"
      },
      "source": [
        "#convert the x_train and y_train to numpy arrays\n",
        "x_train, y_train = np.array(x_train), np.array(y_train)\n"
      ],
      "execution_count": null,
      "outputs": []
    },
    {
      "cell_type": "code",
      "metadata": {
        "colab": {
          "base_uri": "https://localhost:8080/"
        },
        "id": "KzYGPe8kFXdq",
        "outputId": "ce1cb78e-eb7a-4932-9020-ee187bb2312d"
      },
      "source": [
        "#reshape the x_train dataset\n",
        "#lstm expects the data to be 3 dimensional\n",
        "#(samples, timesteps, features)\n",
        "\n",
        "#currently 2 dimensional\n",
        "print('shape at 2d')\n",
        "x_train.shape\n",
        "#(1543,60)\n",
        "\n",
        "#(sample size needs to be a variable(x_train.shape[0]), 60 timesteps(x_train.shape[1]), and 1 feature (closing price))\n",
        "x_train = np.reshape(x_train,(x_train.shape[0],x_train.shape[1],1))\n",
        "print('shape at 3d')\n",
        "x_train.shape\n",
        "\n",
        "\n"
      ],
      "execution_count": null,
      "outputs": [
        {
          "output_type": "stream",
          "text": [
            "shape at 2d\n",
            "shape at 3d\n"
          ],
          "name": "stdout"
        },
        {
          "output_type": "execute_result",
          "data": {
            "text/plain": [
              "(1350, 120, 1)"
            ]
          },
          "metadata": {
            "tags": []
          },
          "execution_count": 43
        }
      ]
    },
    {
      "cell_type": "code",
      "metadata": {
        "id": "pLHB42xjFXag"
      },
      "source": [
        "#NEW PROGRAMS MODEL TRAINING CODE\n",
        "# THIS MODEL DOES BETTER THAN THE OTHER MODEL\n",
        "#build the lstm model\n",
        "model = Sequential()\n",
        "model.add(LSTM(50,return_sequences=True, input_shape= (x_train.shape[1],1)))\n",
        "model.add(LSTM(50,return_sequences=False))\n",
        "model.add(Dense(25))\n",
        "model.add(Dense(1))"
      ],
      "execution_count": null,
      "outputs": []
    },
    {
      "cell_type": "code",
      "metadata": {
        "id": "KIvKFI6hFXWi"
      },
      "source": [
        "#compile the model\n",
        "model.compile(optimizer='adam', loss='mean_squared_error')\n"
      ],
      "execution_count": null,
      "outputs": []
    },
    {
      "cell_type": "code",
      "metadata": {
        "id": "60SmxpzpFXSA",
        "colab": {
          "base_uri": "https://localhost:8080/"
        },
        "outputId": "96097065-84e7-452d-b350-be60009802ef"
      },
      "source": [
        "#train the model\n",
        "#COULD MAYBE PLAY AROUND WITH BATCH SIZE AND EPOCHS\n",
        "#OTHER MODEL USED BATCHSIZE = 100 , EPOCHS = 32\n",
        "model.fit(x_train,y_train,batch_size=1, epochs=1)"
      ],
      "execution_count": null,
      "outputs": [
        {
          "output_type": "stream",
          "text": [
            "1350/1350 [==============================] - 56s 39ms/step - loss: 0.0022\n"
          ],
          "name": "stdout"
        },
        {
          "output_type": "execute_result",
          "data": {
            "text/plain": [
              "<tensorflow.python.keras.callbacks.History at 0x7fdd8473b450>"
            ]
          },
          "metadata": {
            "tags": []
          },
          "execution_count": 47
        }
      ]
    },
    {
      "cell_type": "code",
      "metadata": {
        "id": "E24Gg69iLevh"
      },
      "source": [
        "#create the testing dataset\n",
        "#create a new array containing scaled values from index 1543 to 2003\n",
        "test_data = scaled_data[training_data_len - 120: , :]\n",
        "#create the data sets x_test and y_test\n",
        "x_test = []\n",
        "y_test = dataset[training_data_len:,:]\n",
        "\n",
        "for i in range(120,len(test_data)):\n",
        "  x_test.append(test_data[i-120:i, 0])"
      ],
      "execution_count": null,
      "outputs": []
    },
    {
      "cell_type": "code",
      "metadata": {
        "id": "HLrqQdHdLeoS"
      },
      "source": [
        "#convert the data to a numpy array\n",
        "x_test = np.array(x_test)"
      ],
      "execution_count": null,
      "outputs": []
    },
    {
      "cell_type": "code",
      "metadata": {
        "id": "3N0xjIprLekg"
      },
      "source": [
        "#reshape the data (samples , timesteps, features) --- like before\n",
        "x_test = np.reshape(x_test, (x_test.shape[0], x_test.shape[1], 1))\n"
      ],
      "execution_count": null,
      "outputs": []
    },
    {
      "cell_type": "code",
      "metadata": {
        "id": "lXPcF39PLegL"
      },
      "source": [
        "#get the models predicted price values \n",
        "predictions = model.predict(x_test)\n",
        "predictions = scaler.inverse_transform(predictions)\n",
        "#changing the values back to 2d\n"
      ],
      "execution_count": null,
      "outputs": []
    },
    {
      "cell_type": "code",
      "metadata": {
        "colab": {
          "base_uri": "https://localhost:8080/"
        },
        "id": "l6pUWM0iLeaw",
        "outputId": "908946af-4be8-4242-883f-909a44410e1f"
      },
      "source": [
        "# get the root mean squared error (RSME)\n",
        "#closer to zero the more accurate\n",
        "rmse = np.sqrt(np.mean(predictions - y_test) **2)\n",
        "rmse"
      ],
      "execution_count": null,
      "outputs": [
        {
          "output_type": "execute_result",
          "data": {
            "text/plain": [
              "6.213006458750213"
            ]
          },
          "metadata": {
            "tags": []
          },
          "execution_count": 52
        }
      ]
    },
    {
      "cell_type": "code",
      "metadata": {
        "colab": {
          "base_uri": "https://localhost:8080/",
          "height": 659
        },
        "id": "qVTHyVUmLeRk",
        "outputId": "4a54c85f-e074-4683-da57-2f8cc360a099"
      },
      "source": [
        "#plot the data \n",
        "train = data[:training_data_len]\n",
        "valid = data[training_data_len:]\n",
        "valid['Predictions'] = predictions\n",
        "\n",
        "#visualize the data\n",
        "\n",
        "plt.figure(figsize=(16,8))\n",
        "plt.title('Model')\n",
        "plt.xlabel('Date',fontsize=18)\n",
        "plt.ylabel('Close Price', fontsize=18)\n",
        "plt.plot(train['Close'])\n",
        "plt.plot(valid[['Close','Predictions']])\n",
        "plt.legend(['Train','Val','Predictions'], loc='lower right')\n",
        "plt.show()\n"
      ],
      "execution_count": null,
      "outputs": [
        {
          "output_type": "stream",
          "text": [
            "/usr/local/lib/python3.7/dist-packages/ipykernel_launcher.py:4: SettingWithCopyWarning: \n",
            "A value is trying to be set on a copy of a slice from a DataFrame.\n",
            "Try using .loc[row_indexer,col_indexer] = value instead\n",
            "\n",
            "See the caveats in the documentation: https://pandas.pydata.org/pandas-docs/stable/user_guide/indexing.html#returning-a-view-versus-a-copy\n",
            "  after removing the cwd from sys.path.\n"
          ],
          "name": "stderr"
        },
        {
          "output_type": "display_data",
          "data": {
            "image/png": "[encoded data removed]",
            "text/plain": [
              "<Figure size 1152x576 with 1 Axes>"
            ]
          },
          "metadata": {
            "tags": []
          }
        }
      ]
    },
    {
      "cell_type": "code",
      "metadata": {
        "colab": {
          "base_uri": "https://localhost:8080/",
          "height": 427
        },
        "id": "bf2F3L3JQtT5",
        "outputId": "686311cf-3508-4e8e-cac5-cf668b4855b1"
      },
      "source": [
        "# show the valid and the predicted prices\n",
        "valid "
      ],
      "execution_count": null,
      "outputs": [
        {
          "output_type": "execute_result",
          "data": {
            "text/html": [
              "<div>\n",
              "<style scoped>\n",
              "    .dataframe tbody tr th:only-of-type {\n",
              "        vertical-align: middle;\n",
              "    }\n",
              "\n",
              "    .dataframe tbody tr th {\n",
              "        vertical-align: top;\n",
              "    }\n",
              "\n",
              "    .dataframe thead th {\n",
              "        text-align: right;\n",
              "    }\n",
              "</style>\n",
              "<table border=\"1\" class=\"dataframe\">\n",
              "  <thead>\n",
              "    <tr style=\"text-align: right;\">\n",
              "      <th></th>\n",
              "      <th>Close</th>\n",
              "      <th>Predictions</th>\n",
              "    </tr>\n",
              "    <tr>\n",
              "      <th>Date</th>\n",
              "      <th></th>\n",
              "      <th></th>\n",
              "    </tr>\n",
              "  </thead>\n",
              "  <tbody>\n",
              "    <tr>\n",
              "      <th>2019-11-04</th>\n",
              "      <td>296.820007</td>\n",
              "      <td>293.113739</td>\n",
              "    </tr>\n",
              "    <tr>\n",
              "      <th>2019-11-05</th>\n",
              "      <td>299.179993</td>\n",
              "      <td>292.893829</td>\n",
              "    </tr>\n",
              "    <tr>\n",
              "      <th>2019-11-06</th>\n",
              "      <td>301.570007</td>\n",
              "      <td>292.944275</td>\n",
              "    </tr>\n",
              "    <tr>\n",
              "      <th>2019-11-07</th>\n",
              "      <td>305.209991</td>\n",
              "      <td>293.355652</td>\n",
              "    </tr>\n",
              "    <tr>\n",
              "      <th>2019-11-08</th>\n",
              "      <td>302.619995</td>\n",
              "      <td>294.262268</td>\n",
              "    </tr>\n",
              "    <tr>\n",
              "      <th>...</th>\n",
              "      <td>...</td>\n",
              "      <td>...</td>\n",
              "    </tr>\n",
              "    <tr>\n",
              "      <th>2021-04-14</th>\n",
              "      <td>363.170013</td>\n",
              "      <td>353.783569</td>\n",
              "    </tr>\n",
              "    <tr>\n",
              "      <th>2021-04-15</th>\n",
              "      <td>368.799988</td>\n",
              "      <td>354.788757</td>\n",
              "    </tr>\n",
              "    <tr>\n",
              "      <th>2021-04-16</th>\n",
              "      <td>370.720001</td>\n",
              "      <td>356.066406</td>\n",
              "    </tr>\n",
              "    <tr>\n",
              "      <th>2021-04-19</th>\n",
              "      <td>369.549988</td>\n",
              "      <td>357.519043</td>\n",
              "    </tr>\n",
              "    <tr>\n",
              "      <th>2021-04-20</th>\n",
              "      <td>371.730011</td>\n",
              "      <td>358.792786</td>\n",
              "    </tr>\n",
              "  </tbody>\n",
              "</table>\n",
              "<p>367 rows × 2 columns</p>\n",
              "</div>"
            ],
            "text/plain": [
              "                 Close  Predictions\n",
              "Date                               \n",
              "2019-11-04  296.820007   293.113739\n",
              "2019-11-05  299.179993   292.893829\n",
              "2019-11-06  301.570007   292.944275\n",
              "2019-11-07  305.209991   293.355652\n",
              "2019-11-08  302.619995   294.262268\n",
              "...                ...          ...\n",
              "2021-04-14  363.170013   353.783569\n",
              "2021-04-15  368.799988   354.788757\n",
              "2021-04-16  370.720001   356.066406\n",
              "2021-04-19  369.549988   357.519043\n",
              "2021-04-20  371.730011   358.792786\n",
              "\n",
              "[367 rows x 2 columns]"
            ]
          },
          "metadata": {
            "tags": []
          },
          "execution_count": 54
        }
      ]
    },
    {
      "cell_type": "code",
      "metadata": {
        "colab": {
          "base_uri": "https://localhost:8080/"
        },
        "id": "S-V1O-ZUQ9fQ",
        "outputId": "0da79f4d-7d35-496f-dca4-1dfb1d1641a5"
      },
      "source": [
        "#  THIS BLOCK GETS PREDICTS THE PRICE FOR (today) WITHOUT IT BEING IN THE DATA\n",
        "# 60 day prediction for tomorrow\n",
        "# get the quote \n",
        "quote = web.DataReader(val, data_source='yahoo', start= '2014-01-01', end = yesterday)\n",
        "#create a new dataframe\n",
        "new_df = quote.filter(['Close'])\n",
        "#get the last 60 day closing price values and convert the dataframe to an array\n",
        "last_120_days = new_df[-120:].values\n",
        "#scale the data to be values between 0 and 1\n",
        "last_120_days_scaled = scaler.transform(last_120_days)\n",
        "#create and empty list\n",
        "X_test = []\n",
        "y_test = last_120_days\n",
        "#Append the last 60 days\n",
        "X_test.append(last_120_days_scaled)\n",
        "\n",
        "#convert the X_test dataset to a numpy array\n",
        "X_test = np.array(X_test)\n",
        "\n",
        "#reshape\n",
        "X_test = np.reshape(X_test, (X_test.shape[0], X_test.shape[1],1))\n",
        "\n",
        "#get predicted scale price\n",
        "pred_price = model.predict(X_test)\n",
        "\n",
        "#undo scaling\n",
        "pred_price = scaler.inverse_transform(pred_price)\n",
        "print(\"predicted price for tomorrow\")\n",
        "print(pred_price)\n",
        "\n",
        "\n",
        "quote2 = web.DataReader(val, data_source='yahoo', start= today, end= today)\n",
        "print(quote2['Close'])\n",
        "\n"
      ],
      "execution_count": null,
      "outputs": [
        {
          "output_type": "stream",
          "text": [
            "predicted price for tomorrow\n",
            "[[360.0767]]\n",
            "Date\n",
            "2021-04-21    373.371704\n",
            "Name: Close, dtype: float64\n"
          ],
          "name": "stdout"
        }
      ]
    }
  ]
}